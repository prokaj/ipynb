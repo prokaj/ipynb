{
 "cells": [
  {
   "cell_type": "markdown",
   "id": "2f77eb9f",
   "metadata": {
    "lines_to_next_cell": 0
   },
   "source": [
    "Suppose we have a data set with five predictors, $$\\begin{aligned}\n",
    "    X_1 &= \\text{GPA},\\\\\n",
    "    X_2 &= \\text{IQ},\\\\\n",
    "    X_3 &= \\text{Level},\\quad \\text{1 for College and 0 for High\n",
    "          School},\\\\\n",
    "    X_4 &= \\text{Interaction between GPA and IQ}, \\\\\n",
    "    X_5 &= \\text{Interaction between GPA and Level}. \n",
    "  \\end{aligned}$$ The response is starting salary after graduation (in\n",
    "thousands of dollars). Suppose we use least squares to fit the model,\n",
    "and get $\\hat\\beta_0 = 50$, $\\hat \\beta_1 = 20$, $\\hat\\beta_2 = 0.07$,\n",
    "$\\hat\\beta_3 = 35$, $\\hat\\beta_4 = 0.01$, $\\hat\\beta_5 = -10$.\n",
    "\n",
    "a.  Which answer is correct, and why?\n",
    "\n",
    "    -   For a fixed value of IQ and GPA, high school graduates earn\n",
    "        more, on average, than college graduates.\n",
    "\n",
    "    -   For a fixed value of IQ and GPA, college graduates earn more, on\n",
    "        average, than high school graduates.\n",
    "\n",
    "    -   For a fixed value of IQ and GPA, high school graduates earn\n",
    "        more, on average, than college graduates provided that the GPA\n",
    "        is high enough.\n",
    "\n",
    "    -   For a fixed value of IQ and GPA, college graduates earn more, on\n",
    "        average, than high school graduates provided that the GPA is\n",
    "        high enough.\n",
    "\n",
    "    "
   ]
  },
  {
   "cell_type": "code",
   "execution_count": null,
   "id": "cde58472",
   "metadata": {},
   "outputs": [],
   "source": [
    "    "
   ]
  },
  {
   "cell_type": "markdown",
   "id": "0fc196ca",
   "metadata": {},
   "source": [
    "b.  Predict the salary of a college graduate with IQ of 110 and a GPA of\n",
    "    4.0.\n"
   ]
  },
  {
   "cell_type": "code",
   "execution_count": null,
   "id": "00d53b54",
   "metadata": {},
   "outputs": [],
   "source": [
    "    "
   ]
  },
  {
   "cell_type": "markdown",
   "id": "7a2ea899",
   "metadata": {},
   "source": [
    "c.  True or false: Since the coefficient for the GPA/IQ interaction term\n",
    "    is very small, there is very little evidence of an interaction\n",
    "    effect. Justify your answer.\n"
   ]
  },
  {
   "cell_type": "code",
   "execution_count": null,
   "id": "7737fa4b",
   "metadata": {},
   "outputs": [],
   "source": [
    "    "
   ]
  }
 ],
 "metadata": {
  "jupytext": {
   "cell_metadata_filter": "-all",
   "main_language": "python",
   "notebook_metadata_filter": "-all"
  },
  "kernelspec": {
   "display_name": "Python 3 (ipykernel)",
   "language": "python",
   "name": "python3"
  },
  "language_info": {
   "codemirror_mode": {
    "name": "ipython",
    "version": 3
   },
   "file_extension": ".py",
   "mimetype": "text/x-python",
   "name": "python",
   "nbconvert_exporter": "python",
   "pygments_lexer": "ipython3",
   "version": "3.8.12"
  },
  "widgets": {
   "application/vnd.jupyter.widget-state+json": {
    "state": {},
    "version_major": 2,
    "version_minor": 0
   }
  }
 },
 "nbformat": 4,
 "nbformat_minor": 5
}
