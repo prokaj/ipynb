{
 "cells": [
  {
   "cell_type": "markdown",
   "metadata": {},
   "source": [
    "This lab on Cross-Validation is a python adaptation of p. 190-194 of \"Introduction to Statistical Learning\n",
    "with Applications in R\" by Gareth James, Daniela Witten, Trevor Hastie and Robert Tibshirani. \n",
    "It is based on the work of R. Jordan Crouser at Smith College for SDS293: Machine Learning (Spring 2016).\n",
    "\n",
    "# 5.3.1 The Validation Set Approach"
   ]
  },
  {
   "cell_type": "code",
   "execution_count": null,
   "metadata": {
    "collapsed": false,
    "jupyter": {
     "outputs_hidden": false
    }
   },
   "outputs": [],
   "source": [
    "import pandas as pd\n",
    "import numpy as np\n",
    "import sklearn.linear_model as skl_lm\n",
    "import matplotlib.pyplot as plt\n",
    "import statsmodels.datasets as smd"
   ]
  },
  {
   "cell_type": "markdown",
   "metadata": {},
   "source": [
    "In this section, we'll explore the use of the validation set approach in order to estimate the\n",
    "test error rates that result from fitting various linear models on the `Auto` data set."
   ]
  },
  {
   "cell_type": "code",
   "execution_count": null,
   "metadata": {
    "collapsed": false,
    "jupyter": {
     "outputs_hidden": false
    }
   },
   "outputs": [],
   "source": [
    "df1 = smd.get_rdataset('Auto', 'ISLR').data.set_index('name')\n",
    "df1.info()"
   ]
  },
  {
   "cell_type": "markdown",
   "metadata": {},
   "source": [
    "We begin by using the `sample()` function to split the set of observations\n",
    "into two halves, by selecting a random subset of 196 observations out of\n",
    "the original 392 observations. We refer to these observations as the training\n",
    "set.\n",
    "\n",
    "We'll use the `random_state` parameter in order to set a seed for\n",
    "`python`’s random number generator, so that you'll obtain precisely the same results each time. It is generally a good idea to set a random seed when performing an analysis such as cross-validation\n",
    "that contains an element of randomness, so that the results obtained can be reproduced precisely at a later time."
   ]
  },
  {
   "cell_type": "code",
   "execution_count": null,
   "metadata": {
    "collapsed": false,
    "jupyter": {
     "outputs_hidden": false
    }
   },
   "outputs": [],
   "source": [
    "train_df = df1.sample(196, random_state = 1)\n",
    "test_df = df1[~df1.index.isin(train_df.index)].dropna(how = 'all')\n",
    "print(train_df.index.sort_values(), test_df.index.sort_values())\n",
    "\n",
    "def extract(df,y_name=None, X_names=None):\n",
    "    res = dict(X = df[X_names] if X_names else df.drop(columns=[y_name]))\n",
    "    if y_name:\n",
    "        res['y'] = df[y_name]\n",
    "    return res \n",
    "              \n",
    "print(extract(train_df,'mpg','horsepower'))"
   ]
  },
  {
   "cell_type": "markdown",
   "metadata": {},
   "source": [
    "We then use `LinearRegression()` to fit a linear regression to predict `mpg` from `horsepower` using only\n",
    "the observations corresponding to the training set."
   ]
  },
  {
   "cell_type": "code",
   "execution_count": null,
   "metadata": {
    "collapsed": false,
    "jupyter": {
     "outputs_hidden": false
    }
   },
   "outputs": [],
   "source": [
    "lm = skl_lm.LinearRegression()\n",
    "lm.fit(**extract(train_df, y_name='mpg', X_names=['horsepower']))"
   ]
  },
  {
   "cell_type": "markdown",
   "metadata": {},
   "source": [
    "We now use the `predict()` function to estimate the response for the test\n",
    "observations, and we use `sklearn` to caclulate the MSE."
   ]
  },
  {
   "cell_type": "code",
   "execution_count": null,
   "metadata": {},
   "outputs": [],
   "source": [
    "lm.predict(**extract(test_df,X_names=['horsepower']))"
   ]
  },
  {
   "cell_type": "code",
   "execution_count": null,
   "metadata": {
    "collapsed": false,
    "jupyter": {
     "outputs_hidden": false
    }
   },
   "outputs": [],
   "source": [
    "from sklearn.metrics import mean_squared_error, make_scorer\n",
    "\n",
    "def model_mse(model, df, y_name):\n",
    "    v = extract(df, y_name=y_name, X_names=model.feature_names_in_)\n",
    "    pred = model.predict(v['X'])\n",
    "    return mean_squared_error(pred, v['y'])\n",
    "\n",
    "m_mse = make_scorer(mean_squared_error)\n",
    "    \n",
    "print(f\"test MSE: {model_mse(lm, test_df, 'mpg'):.2f}\")\n",
    "print(f\"test MSE: {m_mse(lm, test_df[['horsepower']], test_df['mpg']):.2f}\")"
   ]
  },
  {
   "cell_type": "code",
   "execution_count": null,
   "metadata": {},
   "outputs": [],
   "source": [
    "m_mse?"
   ]
  },
  {
   "cell_type": "markdown",
   "metadata": {},
   "source": [
    "Therefore, the estimated test MSE for the linear regression fit is 25.14. We\n",
    "can use the `PolynomialFeatures()` function to estimate the test error for the polynomial\n",
    "and cubic regressions."
   ]
  },
  {
   "cell_type": "code",
   "execution_count": null,
   "metadata": {
    "collapsed": false,
    "jupyter": {
     "outputs_hidden": false
    }
   },
   "outputs": [],
   "source": [
    "from sklearn.preprocessing import PolynomialFeatures\n",
    "from sklearn.pipeline import make_pipeline\n",
    "\n",
    "# Quadratic\n",
    "model = make_pipeline(PolynomialFeatures(degree=2, include_bias=False), skl_lm.LinearRegression())\n",
    "model.fit(**extract(train_df, 'mpg', ['horsepower']))          \n",
    "print(f\"Quadratic polynomial regression: test mse {model_mse(model, test_df, 'mpg'):.2f}\")\n",
    "\n",
    "# Cubic\n",
    "model = make_pipeline(PolynomialFeatures(degree=3, include_bias=False), skl_lm.LinearRegression())\n",
    "model.fit(**extract(train_df, 'mpg', ['horsepower']))          \n",
    "print(f\"    Cubic polynomial regression: test mse {model_mse(model, test_df, 'mpg'):.2f}\")\n"
   ]
  },
  {
   "cell_type": "markdown",
   "metadata": {},
   "source": [
    "These error rates are 20.94 and 20.88, respectively. If we choose a different\n",
    "training set instead, then we will obtain somewhat different errors on the\n",
    "validation set. We can test this out by setting a different random seed:"
   ]
  },
  {
   "cell_type": "code",
   "execution_count": null,
   "metadata": {
    "collapsed": false,
    "jupyter": {
     "outputs_hidden": false
    }
   },
   "outputs": [],
   "source": [
    "train_df = df1.sample(196, random_state = 1)\n",
    "test_df = df1[~df1.index.isin(train_df.index)].dropna(how = 'all')\n",
    "\n",
    "for d in range(1,4):\n",
    "    model = make_pipeline(PolynomialFeatures(degree=d, include_bias=False), skl_lm.LinearRegression())\n",
    "    model.fit(**extract(train_df, 'mpg', ['horsepower']))          \n",
    "    print(f\"Degree-{d}: test mse {model_mse(model, test_df, 'mpg'):.2f}\")"
   ]
  },
  {
   "cell_type": "markdown",
   "metadata": {},
   "source": [
    "Using this split of the observations into a training set and a validation\n",
    "set, we find that the validation set error rates for the models with linear,\n",
    "quadratic, and cubic terms are 25.11, 19.72, and 19.92, respectively.\n",
    "\n",
    "These results are consistent with our previous findings: a model that\n",
    "predicts `mpg` using a quadratic function of `horsepower` performs better than\n",
    "a model that involves only a linear function of `horsepower`, and there is\n",
    "little evidence in favor of a model that uses a cubic function of `horsepower`.\n",
    "\n",
    "# 5.3.2 Leave-One-Out Cross-Validation\n",
    "\n",
    "The LOOCV estimate can be automatically computed for any generalized linear model in `R`. In `python` the `sklearn` library does not provide such a function, but it can be easily implemented."
   ]
  },
  {
   "cell_type": "code",
   "execution_count": null,
   "metadata": {},
   "outputs": [],
   "source": [
    "def lm_loocv(X, y):\n",
    "    X, y = np.asarray(X), np.asarray(y)\n",
    "    # include the constant effect\n",
    "    X = np.concatenate([np.ones((X.shape[0],1)),X],axis=-1)\n",
    "    q,_ = np.linalg.qr(X)\n",
    "    # Compute the leverage values\n",
    "    hat_diag = (q**2).sum(axis=1)\n",
    "    # predictions when all observations are included\n",
    "    pred = np.dot(q,np.dot(q.T,y))\n",
    "    # Corrections due to leaving out one observation (see textbook pp. 202 eq (5.2))\n",
    "    return (-y*hat_diag + pred)/(1-hat_diag), ((pred-y)/(1-hat_diag))**2\n",
    "                           "
   ]
  },
  {
   "cell_type": "code",
   "execution_count": null,
   "metadata": {},
   "outputs": [],
   "source": [
    "preds0, scores0 = lm_loocv(**extract(df1, 'mpg', ['horsepower']))\n",
    "print(f\"Folds: {len(scores0)} MSE: {scores0.mean():.2f} STD: {scores0.std():.2f}\")"
   ]
  },
  {
   "cell_type": "code",
   "execution_count": null,
   "metadata": {
    "collapsed": false,
    "jupyter": {
     "outputs_hidden": false
    }
   },
   "outputs": [],
   "source": [
    "\n",
    "from sklearn.model_selection import cross_val_score, cross_val_predict\n",
    "from sklearn.model_selection import KFold\n",
    "\n",
    "LOOCV = KFold(n_splits=len(df1), random_state=None, shuffle=False)\n",
    "\n",
    "scores = cross_val_score(skl_lm.LinearRegression(), \n",
    "                         **extract(df1, 'mpg', ['horsepower']), \n",
    "                         scoring=\"neg_mean_squared_error\", \n",
    "                         cv=LOOCV,\n",
    "                         n_jobs=1)\n",
    "\n",
    "preds = cross_val_predict(skl_lm.LinearRegression(), \n",
    "                          **extract(df1, 'mpg', ['horsepower']), \n",
    "                          cv=LOOCV)\n",
    "print(f\"Folds: {len(scores)} MSE: {-scores.mean():.2f} STD: {scores.std():.2f}\")\n"
   ]
  },
  {
   "cell_type": "markdown",
   "metadata": {},
   "source": [
    "The two methods produces the same prediction, the difference is the order of the truncation error of `float64`."
   ]
  },
  {
   "cell_type": "code",
   "execution_count": null,
   "metadata": {},
   "outputs": [],
   "source": [
    "plt.plot(preds.flatten()-preds0)"
   ]
  },
  {
   "cell_type": "markdown",
   "metadata": {},
   "source": [
    "Our cross-validation estimate for the test error is approximately 24.23. We can repeat this procedure for increasingly complex polynomial fits.\n",
    "To automate the process, we use the `for()` function to initiate a for loop\n",
    "which iteratively fits polynomial regressions for polynomials of order `i = 1`\n",
    "to `i = 5` and computes the associated cross-validation error. \n",
    "\n",
    "This command may take a couple of minutes to run."
   ]
  },
  {
   "cell_type": "code",
   "execution_count": null,
   "metadata": {
    "collapsed": false,
    "jupyter": {
     "outputs_hidden": false
    }
   },
   "outputs": [],
   "source": [
    "v = extract(df1, \"mpg\", [\"horsepower\"])\n",
    "X,y = v['X'], v['y']\n",
    "for i in range(1,6):\n",
    "    poly = PolynomialFeatures(degree=i, include_bias=False)\n",
    "    X_current = poly.fit_transform(X)\n",
    "    scores = cross_val_score(skl_lm.LinearRegression(), \n",
    "                             X_current, \n",
    "                             y, \n",
    "                             scoring=\"neg_mean_squared_error\", \n",
    "                             cv=LOOCV,\n",
    "                             n_jobs=1)\n",
    "    \n",
    "    print(f\"Degree-{i} polynomial MSE: {-scores.mean():.2f} STD: {scores.std():.2f}\")\n"
   ]
  },
  {
   "cell_type": "code",
   "execution_count": null,
   "metadata": {},
   "outputs": [],
   "source": [
    "v = extract(df1, \"mpg\", [\"horsepower\"])\n",
    "X,y = v['X'], v['y']\n",
    "for i in range(1,6):\n",
    "    poly = PolynomialFeatures(degree=i, include_bias=False)\n",
    "    X_current = poly.fit_transform(X)\n",
    "    preds, scores = lm_loocv(X_current, y)\n",
    "    print(f\"Degree-{i} polynomial MSE: {scores.mean():.2f} STD: {scores.std():.2f}\")\n"
   ]
  },
  {
   "cell_type": "markdown",
   "metadata": {},
   "source": [
    "Here we see a sharp drop in the estimated test MSE between\n",
    "the linear and quadratic fits, but then no clear improvement from using\n",
    "higher-order polynomials."
   ]
  },
  {
   "cell_type": "markdown",
   "metadata": {},
   "source": [
    "# 5.3.3 k-Fold Cross-Validation\n",
    "\n",
    "The `KFold` function can (intuitively) also be used to implement `k`-fold CV. Below we\n",
    "use `k = 10`, a common choice for `k`, on the `Auto` data set. We once again set\n",
    "a random seed and initialize a vector in which we will print the CV errors\n",
    "corresponding to the polynomial fits of orders one to ten."
   ]
  },
  {
   "cell_type": "code",
   "execution_count": null,
   "metadata": {
    "collapsed": false,
    "jupyter": {
     "outputs_hidden": false
    }
   },
   "outputs": [],
   "source": [
    "cv = KFold(n_splits=10, random_state=1, shuffle=True)\n",
    "\n",
    "np.random.seed(42)\n",
    "v = extract(df1, \"mpg\", [\"horsepower\"])\n",
    "X,y = v['X'], v['y']\n",
    "for i in range(1,11):\n",
    "    model = make_pipeline(PolynomialFeatures(degree=i, include_bias=False), \n",
    "                          skl_lm.LinearRegression())\n",
    "    scores = cross_val_score(model, \n",
    "                             X=X, y=y, \n",
    "                             scoring=\"neg_mean_squared_error\", \n",
    "                             cv=cv,\n",
    "                             n_jobs=1)\n",
    "    \n",
    "    print(f\"Degree-{i:<2} polynomial MSE: {-scores.mean():.2f} STD: {scores.std():.2f}\")\n"
   ]
  },
  {
   "cell_type": "markdown",
   "metadata": {},
   "source": [
    "Notice that the computation time is **much** shorter than that of LOOCV.\n",
    "(In principle, the computation time for LOOCV for a least squares linear\n",
    "model should be faster than for `k`-fold CV, due to the availability of the\n",
    "formula (5.2) for LOOCV; however, unfortunately the `KFold()` function\n",
    "does not make use of this formula.) We still see little evidence that using\n",
    "cubic or higher-order polynomial terms leads to lower test error than simply\n",
    "using a quadratic fit.\n",
    "\n",
    "# An Application to Default Data\n",
    "\n",
    "Now that you're armed with more useful technique for resampling your data, let's try fitting a model for the `Default` dataset:"
   ]
  },
  {
   "cell_type": "code",
   "execution_count": null,
   "metadata": {
    "collapsed": false,
    "jupyter": {
     "outputs_hidden": false
    }
   },
   "outputs": [],
   "source": [
    "df2 = smd.get_rdataset('Default', 'ISLR')\n",
    "df2.data.__doc__= df2.__doc__\n",
    "df2 = df2.data\n",
    "# df2 = pd.read_csv('Default.csv', na_values='?').dropna()\n",
    "df2.describe()\n",
    "df2.info()\n",
    "df2.default"
   ]
  },
  {
   "cell_type": "markdown",
   "metadata": {},
   "source": [
    "First we'll try just holding out a random 20% of the data:"
   ]
  },
  {
   "cell_type": "code",
   "execution_count": null,
   "metadata": {
    "collapsed": false,
    "jupyter": {
     "outputs_hidden": false
    }
   },
   "outputs": [],
   "source": [
    "import statsmodels.formula.api as smf\n",
    "import statsmodels.api as sm\n",
    "from sklearn.metrics import confusion_matrix, classification_report\n",
    "\n",
    "if False:\n",
    "    for i in range(1,11):\n",
    "        train_df2 = df2.sample(8000, random_state = i)\n",
    "        test_df2 = df2[~df2.isin(train_df2)].dropna(how = 'all')\n",
    "\n",
    "        # Fit a logistic regression to predict default using balance\n",
    "        model = smf.glm('default~balance', data=train_df2, family=sm.families.Binomial())\n",
    "        result = model.fit()\n",
    "        predictions_nominal = [ \"Yes\" if x < 0.5 else \"No\" for x in result.predict(test_df2)]\n",
    "        print(\"----------------\")\n",
    "        print(\"Random Seed = \" + str(i) + \"\")\n",
    "        print(\"----------------\")\n",
    "        print(confusion_matrix(test_df2[\"default\"], \n",
    "                           predictions_nominal))\n",
    "        print(classification_report(test_df2[\"default\"], \n",
    "                                predictions_nominal, \n",
    "                                digits = 3))\n",
    "        print()\n",
    "    "
   ]
  },
  {
   "cell_type": "markdown",
   "metadata": {},
   "source": [
    "Our accuracy is really high on this data, but we're getting different error rates depending on how we choose our test set. That's no good!\n",
    "\n",
    "Unfortunately this dataset is too big for us to run LOOCV, so we'll have to settle for `k`-fold. In the space below, build a logistic model on the full `Default` dataset and then run 5-fold cross-validation to get a more accurate estimate of your test error rate:"
   ]
  },
  {
   "cell_type": "code",
   "execution_count": null,
   "metadata": {},
   "outputs": [],
   "source": [
    "# Your code here"
   ]
  },
  {
   "cell_type": "markdown",
   "metadata": {},
   "source": [
    "# 5.3.4 The Bootstrap\n",
    "\n",
    "We illustrate the use of the bootstrap in the simple example of Section 5.2,\n",
    "as well as on an example involving estimating the accuracy of the linear\n",
    "regression model on the `Auto`data set.\n",
    "\n",
    "# Estimating the Accuracy of a Statistic of Interest\n",
    "\n",
    "One of the great advantages of the bootstrap approach is that it can be\n",
    "applied in almost all situations. No complicated mathematical calculations\n",
    "are required. Performing a bootstrap analysis in R entails only two steps.\n",
    "\n",
    "- First, we must create a function that computes the statistic of interest.\n",
    "- Second, we use the `boot()` function, which is part of the boot library, to perform the bootstrap by repeatedly sampling observations from the data set with replacement.\n",
    "\n",
    "The `Portfolio` data set in the `ISLR` package is described in Section 5.2. It has variables called `X` and `Y`. "
   ]
  },
  {
   "cell_type": "code",
   "execution_count": null,
   "metadata": {
    "collapsed": false,
    "jupyter": {
     "outputs_hidden": false
    }
   },
   "outputs": [],
   "source": [
    "portfolio_df = smd.get_rdataset('Portfolio', 'ISLR')\n",
    "portfolio_df.data.__doc__ = portfolio_df.__doc__\n",
    "portfolio_df = portfolio_df.data\n",
    "portfolio_df.head()"
   ]
  },
  {
   "cell_type": "code",
   "execution_count": null,
   "metadata": {},
   "outputs": [],
   "source": [
    "# print(portfolio_df.__doc__)"
   ]
  },
  {
   "cell_type": "markdown",
   "metadata": {},
   "source": [
    "To illustrate the use of the bootstrap on this data, we must first create\n",
    "a function, `alpha()`, which takes as input the data and outputs the estimate for $\\alpha$ (described in more detail on page 187)."
   ]
  },
  {
   "cell_type": "code",
   "execution_count": null,
   "metadata": {
    "tags": []
   },
   "outputs": [],
   "source": [
    "def alpha(X,Y):\n",
    "    Sigma = np.cov(X,Y)\n",
    "    return (Sigma[1,1]-Sigma[0,1])/ (Sigma[0,0]+Sigma[1,1]-2*Sigma[0,1])"
   ]
  },
  {
   "cell_type": "markdown",
   "metadata": {},
   "source": [
    "This function returns, or outputs, an estimate for $\\alpha$ based on applying\n",
    "(5.7) to the observations indexed by the argument index. For instance, the\n",
    "following command tells `python` to estimate $\\alpha$ using all 100 observations."
   ]
  },
  {
   "cell_type": "code",
   "execution_count": null,
   "metadata": {
    "collapsed": false,
    "jupyter": {
     "outputs_hidden": false
    }
   },
   "outputs": [],
   "source": [
    "X = portfolio_df.X[0:100]\n",
    "y = portfolio_df.Y[0:100]\n",
    "print(alpha(X,y))"
   ]
  },
  {
   "cell_type": "markdown",
   "metadata": {},
   "source": [
    "The next command uses the `sample()` function to randomly select 100 observations\n",
    "from the range 1 to 100, with replacement. This is equivalent\n",
    "to constructing a new bootstrap data set and recomputing $\\hat{\\alpha}$ based on the\n",
    "new data set."
   ]
  },
  {
   "cell_type": "code",
   "execution_count": null,
   "metadata": {
    "collapsed": false,
    "jupyter": {
     "outputs_hidden": false
    }
   },
   "outputs": [],
   "source": [
    "dfsample = portfolio_df.sample(frac=1, replace=True)\n",
    "print(alpha(**dfsample))"
   ]
  },
  {
   "cell_type": "markdown",
   "metadata": {},
   "source": [
    "We can implement a bootstrap analysis by performing this command many\n",
    "times, recording all of the corresponding estimates for $\\alpha$, and computing the resulting standard deviation. However, the `boot()`function automates\n",
    "this approach. Below we produce $1,000$ bootstrap estimates for $\\alpha$:"
   ]
  },
  {
   "cell_type": "code",
   "execution_count": null,
   "metadata": {
    "collapsed": false,
    "jupyter": {
     "outputs_hidden": false
    }
   },
   "outputs": [],
   "source": [
    "def boot(df, fun, n=1000):\n",
    "    gen = range(n) if isinstance(n, int) else n\n",
    "    res = pd.DataFrame([fun(df.sample(frac=1, replace=True)) for i in gen])\n",
    "    return res.aggregate(['mean', 'std'])\n",
    "#{'mean':res.mean(axis=0), 'std':res.std(axis=0)}\n",
    "res = boot(portfolio_df, lambda x: {'alpha': alpha(**x)})\n",
    "res\n",
    "# res.aggregate(['mean', 'std'])"
   ]
  },
  {
   "cell_type": "markdown",
   "metadata": {},
   "source": [
    "The final output shows that using the original data, $\\hat{\\alpha} = 0.58$, and that the bootstrap estimate for $SE(\\hat{\\alpha})$ is 0.09.\n",
    "\n",
    "# Estimating the Accuracy of a Linear Regression Model\n",
    "\n",
    "The bootstrap approach can be used to assess the variability of the coefficient\n",
    "estimates and predictions from a statistical learning method. Here\n",
    "we use the bootstrap approach in order to assess the variability of the\n",
    "estimates for $\\beta_0$ and $\\beta_1$, the intercept and slope terms for the linear regression\n",
    "model that uses horsepower to predict mpg in the Auto data set. We\n",
    "will compare the estimates obtained using the bootstrap to those obtained\n",
    "using the formulas for $SE(\\hat{\\beta}_0)$ and $SE(\\hat{\\beta}_1)$ described in Section 3.1.2.\n",
    "\n",
    "First let's refresh our memory about a linear model of the `Auto` dataset:"
   ]
  },
  {
   "cell_type": "code",
   "execution_count": null,
   "metadata": {
    "collapsed": false,
    "jupyter": {
     "outputs_hidden": false
    }
   },
   "outputs": [],
   "source": [
    "auto_df = smd.get_rdataset('Auto', 'ISLR')\n",
    "auto_df.data.__doc__ = auto_df.__doc__\n",
    "auto_df = auto_df.data.dropna()\n",
    "auto_df.describe()"
   ]
  },
  {
   "cell_type": "code",
   "execution_count": null,
   "metadata": {
    "collapsed": false,
    "jupyter": {
     "outputs_hidden": false
    }
   },
   "outputs": [],
   "source": [
    "clf = skl_lm.LinearRegression().fit(**extract(auto_df, 'mpg', ['horsepower']))\n",
    "print(clf.coef_, clf.intercept_)"
   ]
  },
  {
   "cell_type": "markdown",
   "metadata": {},
   "source": [
    "Next, we use the `boot()`function to compute the standard errors of 1,000\n",
    "bootstrap estimates for the intercept and slope terms:"
   ]
  },
  {
   "cell_type": "code",
   "execution_count": null,
   "metadata": {},
   "outputs": [],
   "source": [
    "def boot(df, fun, n=1000):\n",
    "    gen = range(n) if isinstance(n, int) else n\n",
    "    res = pd.DataFrame([fun(df.sample(frac=1, replace=True)) for i in gen])\n",
    "    return res.aggregate(['mean', 'std'])"
   ]
  },
  {
   "cell_type": "code",
   "execution_count": null,
   "metadata": {
    "collapsed": false,
    "jupyter": {
     "outputs_hidden": false
    }
   },
   "outputs": [],
   "source": [
    "from sklearn.utils import resample\n",
    "from sklearn.metrics import mean_squared_error\n",
    "from tqdm.auto import tqdm\n",
    "\n",
    "df = auto_df[['mpg','horsepower']]\n",
    "\n",
    "np.random.seed(42)\n",
    "\n",
    "def intercept_slope(df):\n",
    "    fitted = skl_lm.LinearRegression().fit(**extract(df, 'mpg'))\n",
    "    res = dict(zip(fitted.feature_names_in_, fitted.coef_))\n",
    "    res['intercept'] = fitted.intercept_\n",
    "    return res\n",
    "    \n",
    "boot(df, intercept_slope, n=tqdm(range(1000)))\n"
   ]
  },
  {
   "cell_type": "code",
   "execution_count": null,
   "metadata": {},
   "outputs": [],
   "source": [
    "def intercept_slope(df):\n",
    "    fitted = make_pipeline(PolynomialFeatures(2, include_bias=False), \n",
    "                           skl_lm.LinearRegression()).fit(**extract(df, 'mpg'))\n",
    "    res = dict(zip(fitted[0].get_feature_names_out(), fitted[-1].coef_))\n",
    "    res['intercept'] = fitted[-1].intercept_\n",
    "    return res\n",
    "\n",
    "boot(df, intercept_slope, n=tqdm(range(1000)))"
   ]
  },
  {
   "cell_type": "code",
   "execution_count": null,
   "metadata": {},
   "outputs": [],
   "source": [
    "make_pipeline(PolynomialFeatures(2, include_bias=False), \n",
    "                           skl_lm.LinearRegression())"
   ]
  },
  {
   "cell_type": "code",
   "execution_count": null,
   "metadata": {},
   "outputs": [],
   "source": []
  }
 ],
 "metadata": {
  "anaconda-cloud": {},
  "kernelspec": {
   "display_name": "Python 3 (ipykernel)",
   "language": "python",
   "name": "python3"
  },
  "language_info": {
   "codemirror_mode": {
    "name": "ipython",
    "version": 3
   },
   "file_extension": ".py",
   "mimetype": "text/x-python",
   "name": "python",
   "nbconvert_exporter": "python",
   "pygments_lexer": "ipython3",
   "version": "3.8.12"
  },
  "widgets": {
   "application/vnd.jupyter.widget-state+json": {
    "state": {},
    "version_major": 2,
    "version_minor": 0
   }
  }
 },
 "nbformat": 4,
 "nbformat_minor": 4
}
