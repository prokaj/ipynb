{
 "cells": [
  {
   "cell_type": "markdown",
   "id": "8ac37529",
   "metadata": {},
   "source": [
    "This question involves the use of multiple linear regression on the\n",
    "[`Auto`](https://www.statlearning.com/s/Auto.csv) data set.\n",
    "\n",
    "a.  Produce a scatterplot matrix which includes all of the variables in\n",
    "    the data set.\n"
   ]
  },
  {
   "cell_type": "code",
   "execution_count": null,
   "id": "0e98975e",
   "metadata": {},
   "outputs": [],
   "source": [
    "##\n"
   ]
  },
  {
   "cell_type": "markdown",
   "id": "657d134f",
   "metadata": {},
   "source": [
    "b.  Compute the matrix of correlations between the variables using the\n",
    "    function `corr()`.\n"
   ]
  },
  {
   "cell_type": "code",
   "execution_count": null,
   "id": "d6a29ae3",
   "metadata": {},
   "outputs": [],
   "source": [
    "##\n"
   ]
  },
  {
   "cell_type": "markdown",
   "id": "0e0c6e4d",
   "metadata": {
    "lines_to_next_cell": 0
   },
   "source": [
    "c.  Perform a multiple linear regression with `mpg` as the response and\n",
    "    all other variables except `name` as the predictors. Use the\n",
    "    `summary()` function to print the results. Comment on the output.\n",
    "    For instance:\n",
    "\n",
    "    -   Is there a relationship between the predictors and the response?\n",
    "\n",
    "    -   Which predictors appear to have a statistically significant\n",
    "        relationship to the response?\n",
    "\n",
    "    -   What does the coefficient for the year variable suggest?\n",
    "\n",
    "    "
   ]
  },
  {
   "cell_type": "code",
   "execution_count": null,
   "id": "adb49b5d",
   "metadata": {},
   "outputs": [],
   "source": [
    "##\n"
   ]
  },
  {
   "cell_type": "markdown",
   "id": "fbf3930e",
   "metadata": {
    "lines_to_next_cell": 0
   },
   "source": [
    "d.  Produce diagnostic plots of the linear regression fit. (standardized\n",
    "    residuals vs fitted values, normal $q-q$ plot, leverage vs fitted\n",
    "    values, Cook's distance).\n",
    "\n",
    "    Comment on any problems you see with the fit. Do the residual plots\n",
    "    suggest any unusually large outliers? Does the leverage plot\n",
    "    identify any observations with unusually high leverage?\n",
    "\n",
    "    "
   ]
  },
  {
   "cell_type": "code",
   "execution_count": null,
   "id": "ea32c1c6",
   "metadata": {},
   "outputs": [],
   "source": [
    "##\n"
   ]
  },
  {
   "cell_type": "markdown",
   "id": "9894cf81",
   "metadata": {},
   "source": [
    "e.  Use the `*` and `:` symbols to fit linear regression models with\n",
    "    interaction effects. Do any interactions appear to be statistically\n",
    "    significant?\n"
   ]
  },
  {
   "cell_type": "code",
   "execution_count": null,
   "id": "362aa8b0",
   "metadata": {},
   "outputs": [],
   "source": [
    "##\n"
   ]
  },
  {
   "cell_type": "markdown",
   "id": "1a553a3d",
   "metadata": {},
   "source": [
    "f.  Try a few different transformations of the variables, such as\n",
    "    $\\log(X)$, $\\sqrt{X}$, $X^2$. Comment on your findings.\n"
   ]
  },
  {
   "cell_type": "code",
   "execution_count": null,
   "id": "009b7ddc",
   "metadata": {},
   "outputs": [],
   "source": [
    "##\n"
   ]
  }
 ],
 "metadata": {
  "jupytext": {
   "cell_metadata_filter": "-all",
   "main_language": "python",
   "notebook_metadata_filter": "-all"
  }
 },
 "nbformat": 4,
 "nbformat_minor": 5
}