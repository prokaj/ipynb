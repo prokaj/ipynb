{
 "cells": [
  {
   "cell_type": "markdown",
   "id": "9b61cfa8",
   "metadata": {},
   "source": [
    "In this problem we will investigate the $t$-statistic for the null\n",
    "hypothesis $H_0 : \\beta = 0$ in simple linear regression without an\n",
    "intercept. To begin, we generate a predictor $x$ and a response $y$ as\n",
    "follows.\n",
    "\n",
    "    #---------------\n",
    "    import numpy as np\n",
    "    np.random.seed(1)\n",
    "    x = np.random.normal(size=100)\n",
    "    y = 2*x + np.random.normal(size=len(x))\n",
    "    #---------------\n",
    "\n",
    "a.  Perform a simple linear regression of $y$ onto $x$, without an\n",
    "    intercept. Report the coefficient estimate $\\hat \\beta$, the\n",
    "    standard error of this coefficient estimate, and the $t$-statistic\n",
    "    and $p$-value associated with the null hypothesis $H_0 : \\beta =\n",
    "        0$. Comment on these results. (In the formula interface,\n",
    "    regression without an intercept term is expressed as `y~x+0`.)\n"
   ]
  },
  {
   "cell_type": "code",
   "execution_count": null,
   "id": "e71c531c",
   "metadata": {},
   "outputs": [],
   "source": [
    "##\n"
   ]
  },
  {
   "cell_type": "markdown",
   "id": "cd3f5908",
   "metadata": {},
   "source": [
    "b.  Now perform a simple linear regression of $x$ onto $y$ without an\n",
    "    intercept, and report the coefficient estimate, its standard error,\n",
    "    and the corresponding $t$-statistic and $p$-values associated with\n",
    "    the null hypothesis $H_0 : \\beta = 0$. Comment on these results.\n"
   ]
  },
  {
   "cell_type": "code",
   "execution_count": null,
   "id": "996f2420",
   "metadata": {},
   "outputs": [],
   "source": [
    "##\n"
   ]
  },
  {
   "cell_type": "markdown",
   "id": "9e33bfcf",
   "metadata": {},
   "source": [
    "c.  What is the relationship between the results obtained in (a) and\n",
    "    (b)?\n"
   ]
  },
  {
   "cell_type": "code",
   "execution_count": null,
   "id": "d1bb9db7",
   "metadata": {},
   "outputs": [],
   "source": [
    "##\n"
   ]
  },
  {
   "cell_type": "markdown",
   "id": "9ba3e950",
   "metadata": {
    "lines_to_next_cell": 0
   },
   "source": [
    "d.  For the regression of $Y$ onto $X$ without an intercept, the\n",
    "    $t$-statistic for $H_0 : \\beta = 0$ takes the form\n",
    "    $\\hat\\beta/\\text{SE}(\\hat\\beta)$, where $\\hat\\beta$ is given by\n",
    "    $$\\hat\\beta = \\frac{\\sum_i x_iy_i}{\\sum_i x_i^2}$$ and where\n",
    "    $$\\text{SE}(\\hat\\beta) =\n",
    "          \\sqrt{\\frac{\\frac1{n-1}{\\sum_i (y_i-x_i\\hat\\beta)^2}}{\\sum_i x_i^2}}$$\n",
    "\n",
    "    Show algebraically, and confirm numerically, that the $t$-statistic\n",
    "    can be written as\n",
    "    $$\\frac{\\sqrt{n-1}\\sum_i x_iy_i}{\\sqrt{\\left({\\sum_i\n",
    "                x_i^2}\\right){\\left({\\sum_i y_i^2}\\right)}-\\left({\\sum_i x_iy_i}\\right)^2}}$$\n",
    "\n",
    "    "
   ]
  },
  {
   "cell_type": "code",
   "execution_count": null,
   "id": "d39efdf0",
   "metadata": {},
   "outputs": [],
   "source": [
    "##\n"
   ]
  },
  {
   "cell_type": "markdown",
   "id": "dc5cd41c",
   "metadata": {},
   "source": [
    "e.  Using the results from (d), argue that the $t$-statistic for the\n",
    "    regression of $y$ onto $x$ is the same as the $t$-statistic for the\n",
    "    regression of $x$ onto $y$.\n"
   ]
  },
  {
   "cell_type": "code",
   "execution_count": null,
   "id": "2f7450d8",
   "metadata": {},
   "outputs": [],
   "source": [
    "##\n"
   ]
  },
  {
   "cell_type": "markdown",
   "id": "26dc1e35",
   "metadata": {},
   "source": [
    "f.  In `python`, show that when regression is performed with an\n",
    "    intercept, the $t$-statistic for $H_0 : \\beta_1 = 0$ is the same for\n",
    "    the regression of $y$ onto $x$ as it is for the regression of $x$\n",
    "    onto $y$.\n"
   ]
  },
  {
   "cell_type": "code",
   "execution_count": null,
   "id": "229a3928",
   "metadata": {},
   "outputs": [],
   "source": [
    "##\n"
   ]
  }
 ],
 "metadata": {
  "jupytext": {
   "cell_metadata_filter": "-all",
   "main_language": "python",
   "notebook_metadata_filter": "-all"
  }
 },
 "nbformat": 4,
 "nbformat_minor": 5
}