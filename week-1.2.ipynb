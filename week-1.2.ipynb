{
 "cells": [
  {
   "cell_type": "markdown",
   "id": "81b7dec5",
   "metadata": {
    "lines_to_next_cell": 0
   },
   "source": [
    "This exercise relates to the College data set, which can be found in the\n",
    "file [`College.csv`](https://www.statlearning.com/s/College.csv) on the\n",
    "ISL book website. It contains a number of variables for 777 different\n",
    "universities and colleges in the US. The variables are\n",
    "\n",
    "-   `Private` : Public/private indicator\n",
    "\n",
    "-   `Apps` : Number of applications received\n",
    "\n",
    "-   `Accept` : Number of applicants accepted\n",
    "\n",
    "-   `Enroll` : Number of students enrolled\n",
    "\n",
    "-   `Top10perc` : New students from top 10 % of high school class\n",
    "\n",
    "-   `Top25perc` : New students from top 25 % of high school class\n",
    "\n",
    "-   `F.Undergrad` : Number of full-time undergraduates\n",
    "\n",
    "-   `P.Undergrad` : Number of part-time undergraduates\n",
    "\n",
    "-   `Outstate` : Out-of-state tuition\n",
    "\n",
    "-   `Room.Board` : Room and board costs\n",
    "\n",
    "-   `Books` : Estimated book costs\n",
    "\n",
    "-   `Personal` : Estimated personal spending\n",
    "\n",
    "-   `PhD` : Percent of faculty with Ph.D.'s\n",
    "\n",
    "-   `Terminal` : Percent of faculty with terminal degree\n",
    "\n",
    "-   `S.F.Ratio` : Student/faculty ratio\n",
    "\n",
    "-   `perc.alumni` : Percent of alumni who donate\n",
    "\n",
    "-   `Expend` : Instructional expenditure per student\n",
    "\n",
    "-   `Grad.Rate` : Graduation rate\n",
    "\n",
    "a.  Use the `pd.read_csv` function to load the data. Call the loaded\n",
    "    data `college`, for example\n",
    "\n",
    "        import urllib\n",
    "        url = \"https://www.statlearning.com/s/College.csv\"\n",
    "        with urllib.request.urlopen(url) as f:\n",
    "          college = pd.read_csv(f, index_col=0)\n",
    "\n",
    "    "
   ]
  },
  {
   "cell_type": "code",
   "execution_count": null,
   "id": "0ee5240f",
   "metadata": {},
   "outputs": [],
   "source": [
    "    "
   ]
  },
  {
   "cell_type": "markdown",
   "id": "5e958d06",
   "metadata": {},
   "source": [
    "b.  Look at the data using the `head` method. You should notice that the\n",
    "    row index is just the name of each university. This is the effect of\n",
    "    `index_col=0`.\n"
   ]
  },
  {
   "cell_type": "code",
   "execution_count": null,
   "id": "c2a6db7a",
   "metadata": {},
   "outputs": [],
   "source": [
    "    "
   ]
  },
  {
   "cell_type": "markdown",
   "id": "4effddbc",
   "metadata": {},
   "source": [
    "c.  Use the `describe` function to produce a numerical summary of the\n",
    "    variables in the data set.\n"
   ]
  },
  {
   "cell_type": "code",
   "execution_count": null,
   "id": "ccadf51a",
   "metadata": {},
   "outputs": [],
   "source": [
    "    "
   ]
  },
  {
   "cell_type": "markdown",
   "id": "9abb3eef",
   "metadata": {
    "lines_to_next_cell": 0
   },
   "source": [
    "d.  Use the `pair_plot` function from the `seaborn` package to produce a\n",
    "    scatterplot matrix of the first ten columns or variables of the\n",
    "    data. Recall that you can reference the first ten columns of a\n",
    "    `pandas.DataFrame` by applying the `.iloc(1)[:10]` method on it.\n",
    "\n",
    "    Note that `Private` is missing from the plot. Why?\n",
    "\n",
    "    "
   ]
  },
  {
   "cell_type": "code",
   "execution_count": null,
   "id": "a3746f33",
   "metadata": {},
   "outputs": [],
   "source": [
    "    "
   ]
  },
  {
   "cell_type": "markdown",
   "id": "093b386f",
   "metadata": {},
   "source": [
    "e.  Use the `seaborn.boxplot` function to produce side-by-side boxplots\n",
    "    of `Outstate` versus `Private`.\n"
   ]
  },
  {
   "cell_type": "code",
   "execution_count": null,
   "id": "c546ffbe",
   "metadata": {},
   "outputs": [],
   "source": [
    "    "
   ]
  },
  {
   "cell_type": "markdown",
   "id": "218d3b25",
   "metadata": {
    "lines_to_next_cell": 0
   },
   "source": [
    "f.  Create a new qualitative variable, called `Elite`, by binning the\n",
    "    `Top10perc` variable. We are going to divide universities into two\n",
    "    groups based on whether or not the proportion of students coming\n",
    "    from the top 10 % of their high school classes exceeds 50 %.\n",
    "\n",
    "        college[\"Elite\"] = college.Top10perc>50\n",
    "\n",
    "    Use the `.value_counts` method to see how many elite universities\n",
    "    there are. Now use the `boxplot()` function from the `seaborn`\n",
    "    package to produce side-by-side boxplots of `Outstate` versus\n",
    "    `Elite`.\n",
    "\n",
    "    "
   ]
  },
  {
   "cell_type": "code",
   "execution_count": null,
   "id": "ef1de255",
   "metadata": {},
   "outputs": [],
   "source": [
    "    "
   ]
  },
  {
   "cell_type": "markdown",
   "id": "3c3833c3",
   "metadata": {},
   "source": [
    "g.  Use the `.hist` method to produce some histograms with differing\n",
    "    numbers of bins for a few of the quantitative variables.\n"
   ]
  },
  {
   "cell_type": "code",
   "execution_count": null,
   "id": "43a5b9c6",
   "metadata": {},
   "outputs": [],
   "source": [
    "    "
   ]
  },
  {
   "cell_type": "markdown",
   "id": "2a2feeff",
   "metadata": {},
   "source": [
    "h.  Continue exploring the data, and provide a brief summary of what you\n",
    "    discover.\n"
   ]
  },
  {
   "cell_type": "code",
   "execution_count": null,
   "id": "0804323c",
   "metadata": {},
   "outputs": [],
   "source": [
    "    "
   ]
  }
 ],
 "metadata": {
  "jupytext": {
   "cell_metadata_filter": "-all",
   "main_language": "python",
   "notebook_metadata_filter": "-all"
  }
 },
 "nbformat": 4,
 "nbformat_minor": 5
}