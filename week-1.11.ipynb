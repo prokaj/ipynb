{
 "cells": [
  {
   "cell_type": "markdown",
   "id": "4f2cc060",
   "metadata": {},
   "source": [
    "Egy szövőszéken $n$ orsó forog, a szálszakadásig eltelő idő eloszlása\n",
    "mindegyiken ugyanolyan exponenciális eloszlású. Az eloszlás paraméterét\n",
    "szeretnénk becsülni, ezért a $t$ időpontban megfigyeljük, hány orsón nem\n",
    "szakadt még el a szál.\n",
    "\n",
    "a.  Melyik $t$ maximalizálná a megfigyelés Fisher-információját?\n"
   ]
  },
  {
   "cell_type": "code",
   "execution_count": null,
   "id": "9c9c3d98",
   "metadata": {},
   "outputs": [],
   "source": [
    "##\n"
   ]
  },
  {
   "cell_type": "markdown",
   "id": "09f9d525",
   "metadata": {},
   "source": [
    "b.  Ha a $t$ időpontban még $X$ orsón nem volt szakadás és még egy\n",
    "    megfigyelésre van lehetőségünk, azt mikor végezzük?\n"
   ]
  },
  {
   "cell_type": "code",
   "execution_count": null,
   "id": "80463cb7",
   "metadata": {},
   "outputs": [],
   "source": [
    "##\n"
   ]
  }
 ],
 "metadata": {
  "jupytext": {
   "cell_metadata_filter": "-all",
   "main_language": "python",
   "notebook_metadata_filter": "-all"
  }
 },
 "nbformat": 4,
 "nbformat_minor": 5
}