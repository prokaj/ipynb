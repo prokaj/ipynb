{
 "cells": [
  {
   "cell_type": "markdown",
   "id": "e8d63141",
   "metadata": {
    "lines_to_next_cell": 0
   },
   "source": [
    "This exercise involves the Boston housing data set.\n",
    "\n",
    "a.  To begin, load in the Boston data set. The Boston data set is part\n",
    "    of `sklearn.datasets`.\n",
    "\n",
    "        #---------------\n",
    "        from sklearn.datasets import load_boston\n",
    "        ds = load_boston()\n",
    "        print(ds.keys())\n",
    "        #---------------\n",
    "\n",
    "    Read about the data set:\n",
    "\n",
    "        #---------------\n",
    "        print(ds['DESCR'])\n",
    "        #---------------\n",
    "\n",
    "    How many rows are in this data set? How many columns? What do the\n",
    "    rows and columns represent?\n",
    "\n",
    "    "
   ]
  },
  {
   "cell_type": "code",
   "execution_count": null,
   "id": "a2a9823e",
   "metadata": {},
   "outputs": [],
   "source": [
    "##\n"
   ]
  },
  {
   "cell_type": "markdown",
   "id": "b19f685c",
   "metadata": {},
   "source": [
    "b.  Make some pairwise scatterplots of the predictors (columns) in this\n",
    "    data set. Describe your findings.\n"
   ]
  },
  {
   "cell_type": "code",
   "execution_count": null,
   "id": "6fcae11a",
   "metadata": {},
   "outputs": [],
   "source": [
    "##\n"
   ]
  },
  {
   "cell_type": "markdown",
   "id": "c89be927",
   "metadata": {},
   "source": [
    "c.  Are any of the predictors associated with per capita crime rate? If\n",
    "    so, explain the relationship.\n"
   ]
  },
  {
   "cell_type": "code",
   "execution_count": null,
   "id": "e637fec9",
   "metadata": {},
   "outputs": [],
   "source": [
    "##\n"
   ]
  },
  {
   "cell_type": "markdown",
   "id": "06225920",
   "metadata": {},
   "source": [
    "d.  Do any of the census tracts of Boston appear to have particularly\n",
    "    high crime rates? Tax rates? Pupil-teacher ratios? Comment on the\n",
    "    range of each predictor.\n"
   ]
  },
  {
   "cell_type": "code",
   "execution_count": null,
   "id": "652adf55",
   "metadata": {},
   "outputs": [],
   "source": [
    "##\n"
   ]
  },
  {
   "cell_type": "markdown",
   "id": "6e5cc9fb",
   "metadata": {},
   "source": [
    "e.  How many of the census tracts in this data set bound the Charles\n",
    "    river?\n"
   ]
  },
  {
   "cell_type": "code",
   "execution_count": null,
   "id": "5c30c351",
   "metadata": {},
   "outputs": [],
   "source": [
    "##\n"
   ]
  },
  {
   "cell_type": "markdown",
   "id": "e72fcb16",
   "metadata": {},
   "source": [
    "f.  What is the median pupil-teacher ratio among the towns in this data\n",
    "    set?\n"
   ]
  },
  {
   "cell_type": "code",
   "execution_count": null,
   "id": "66dd6f89",
   "metadata": {},
   "outputs": [],
   "source": [
    "##\n"
   ]
  }
 ],
 "metadata": {
  "jupytext": {
   "cell_metadata_filter": "-all",
   "main_language": "python",
   "notebook_metadata_filter": "-all"
  }
 },
 "nbformat": 4,
 "nbformat_minor": 5
}