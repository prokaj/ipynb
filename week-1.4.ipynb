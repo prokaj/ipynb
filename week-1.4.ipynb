{
 "cells": [
  {
   "cell_type": "markdown",
   "id": "77c9c6b7",
   "metadata": {
    "lines_to_next_cell": 0
   },
   "source": [
    "This exercise involves the Boston housing data set.\n",
    "\n",
    "a.  To begin, load in the Boston data set. The Boston data set is part\n",
    "    of `sklearn.datasets`.\n",
    "\n",
    "        #---------------\n",
    "        from sklearn.datasets import load_boston\n",
    "        ds = load_boston()\n",
    "        print(ds.keys())\n",
    "        #---------------\n",
    "\n",
    "    Read about the data set:\n",
    "\n",
    "        #---------------\n",
    "        print(ds['DESCR'])\n",
    "        #---------------\n",
    "\n",
    "    How many rows are in this data set? How many columns? What do the\n",
    "    rows and columns represent?\n",
    "\n",
    "    "
   ]
  },
  {
   "cell_type": "code",
   "execution_count": null,
   "id": "b823632c",
   "metadata": {},
   "outputs": [],
   "source": [
    "    "
   ]
  },
  {
   "cell_type": "markdown",
   "id": "b538bef7",
   "metadata": {},
   "source": [
    "b.  Make some pairwise scatterplots of the predictors (columns) in this\n",
    "    data set. Describe your findings.\n"
   ]
  },
  {
   "cell_type": "code",
   "execution_count": null,
   "id": "ce9a85df",
   "metadata": {},
   "outputs": [],
   "source": [
    "    "
   ]
  },
  {
   "cell_type": "markdown",
   "id": "55f8382e",
   "metadata": {},
   "source": [
    "c.  Are any of the predictors associated with per capita crime rate? If\n",
    "    so, explain the relationship.\n"
   ]
  },
  {
   "cell_type": "code",
   "execution_count": null,
   "id": "4cb286f2",
   "metadata": {},
   "outputs": [],
   "source": [
    "    "
   ]
  },
  {
   "cell_type": "markdown",
   "id": "61450ec6",
   "metadata": {},
   "source": [
    "d.  Do any of the census tracts of Boston appear to have particularly\n",
    "    high crime rates? Tax rates? Pupil-teacher ratios? Comment on the\n",
    "    range of each predictor.\n"
   ]
  },
  {
   "cell_type": "code",
   "execution_count": null,
   "id": "0fb68169",
   "metadata": {},
   "outputs": [],
   "source": [
    "    "
   ]
  },
  {
   "cell_type": "markdown",
   "id": "a0ff470a",
   "metadata": {},
   "source": [
    "e.  How many of the census tracts in this data set bound the Charles\n",
    "    river?\n"
   ]
  },
  {
   "cell_type": "code",
   "execution_count": null,
   "id": "68bc2c72",
   "metadata": {},
   "outputs": [],
   "source": [
    "    "
   ]
  },
  {
   "cell_type": "markdown",
   "id": "d9a51987",
   "metadata": {},
   "source": [
    "f.  What is the median pupil-teacher ratio among the towns in this data\n",
    "    set?\n"
   ]
  },
  {
   "cell_type": "code",
   "execution_count": null,
   "id": "a5073ea7",
   "metadata": {},
   "outputs": [],
   "source": [
    "    "
   ]
  },
  {
   "cell_type": "markdown",
   "id": "4f27646f",
   "metadata": {},
   "source": [
    "g.  Which census tract of Boston has lowest median value of\n",
    "    owner-occupied homes? What are the values of the other predictors\n",
    "    for that census tract, and how do those values compare to the\n",
    "    overall ranges for those predictors? Comment on your findings.\n"
   ]
  },
  {
   "cell_type": "code",
   "execution_count": null,
   "id": "a7d3fa2c",
   "metadata": {},
   "outputs": [],
   "source": [
    "    "
   ]
  },
  {
   "cell_type": "markdown",
   "id": "79ef1aff",
   "metadata": {},
   "source": [
    "h.  In this data set, how many of the census tracts average more than\n",
    "    seven rooms per dwelling? More than eight rooms per dwelling?\n",
    "    Comment on the census tracts that average more than eight rooms per\n",
    "    dwelling.\n"
   ]
  },
  {
   "cell_type": "code",
   "execution_count": null,
   "id": "94013078",
   "metadata": {},
   "outputs": [],
   "source": [
    "    "
   ]
  }
 ],
 "metadata": {
  "jupytext": {
   "cell_metadata_filter": "-all",
   "main_language": "python",
   "notebook_metadata_filter": "-all"
  }
 },
 "nbformat": 4,
 "nbformat_minor": 5
}