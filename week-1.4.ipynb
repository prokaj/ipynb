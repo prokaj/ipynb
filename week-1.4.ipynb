{
 "cells": [
  {
   "cell_type": "markdown",
   "id": "a29694be",
   "metadata": {
    "lines_to_next_cell": 0
   },
   "source": [
    "This exercise involves the Boston housing data set.\n",
    "\n",
    "a.  To begin, load in the Boston data set. The Boston data set is part\n",
    "    of `sklearn.datasets`.\n",
    "\n",
    "        #---------------\n",
    "        from sklearn.datasets import load_boston\n",
    "        ds = load_boston()\n",
    "        print(ds.keys())\n",
    "        #---------------\n",
    "\n",
    "    Read about the data set:\n",
    "\n",
    "        #---------------\n",
    "        print(ds['DESCR'])\n",
    "        #---------------\n",
    "\n",
    "    How many rows are in this data set? How many columns? What do the\n",
    "    rows and columns represent?\n",
    "\n",
    "    "
   ]
  },
  {
   "cell_type": "code",
   "execution_count": null,
   "id": "11ba3f50",
   "metadata": {},
   "outputs": [],
   "source": [
    "##\n"
   ]
  },
  {
   "cell_type": "markdown",
   "id": "abd917ee",
   "metadata": {},
   "source": [
    "b.  Make some pairwise scatterplots of the predictors (columns) in this\n",
    "    data set. Describe your findings.\n"
   ]
  },
  {
   "cell_type": "code",
   "execution_count": null,
   "id": "812e976a",
   "metadata": {},
   "outputs": [],
   "source": [
    "##\n"
   ]
  },
  {
   "cell_type": "markdown",
   "id": "0cd2923a",
   "metadata": {},
   "source": [
    "c.  Are any of the predictors associated with per capita crime rate? If\n",
    "    so, explain the relationship.\n"
   ]
  },
  {
   "cell_type": "code",
   "execution_count": null,
   "id": "79ee0157",
   "metadata": {},
   "outputs": [],
   "source": [
    "##\n"
   ]
  },
  {
   "cell_type": "markdown",
   "id": "03d6af7f",
   "metadata": {},
   "source": [
    "d.  Do any of the census tracts of Boston appear to have particularly\n",
    "    high crime rates? Tax rates? Pupil-teacher ratios? Comment on the\n",
    "    range of each predictor.\n"
   ]
  },
  {
   "cell_type": "code",
   "execution_count": null,
   "id": "949adb4b",
   "metadata": {},
   "outputs": [],
   "source": [
    "##\n"
   ]
  },
  {
   "cell_type": "markdown",
   "id": "3310a287",
   "metadata": {},
   "source": [
    "e.  How many of the census tracts in this data set bound the Charles\n",
    "    river?\n"
   ]
  },
  {
   "cell_type": "code",
   "execution_count": null,
   "id": "fc1bffea",
   "metadata": {},
   "outputs": [],
   "source": [
    "##\n"
   ]
  },
  {
   "cell_type": "markdown",
   "id": "c3973091",
   "metadata": {},
   "source": [
    "f.  What is the median pupil-teacher ratio among the towns in this data\n",
    "    set?\n"
   ]
  },
  {
   "cell_type": "code",
   "execution_count": null,
   "id": "14e27883",
   "metadata": {},
   "outputs": [],
   "source": [
    "##\n"
   ]
  }
 ],
 "metadata": {
  "jupytext": {
   "cell_metadata_filter": "-all",
   "main_language": "python",
   "notebook_metadata_filter": "-all"
  }
 },
 "nbformat": 4,
 "nbformat_minor": 5
}