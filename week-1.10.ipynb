{
 "cells": [
  {
   "cell_type": "markdown",
   "id": "22f71f3d",
   "metadata": {},
   "source": [
    "In this exercise, you will further analyze the `Wage` data.\n",
    "\n",
    "a.  Perform polynomial regression to predict `wage` using `age`. Use\n",
    "    cross-validation to select the optimal degree $d$ for the\n",
    "    polynomial. What degree was chosen?\n"
   ]
  },
  {
   "cell_type": "code",
   "execution_count": null,
   "id": "6023bc53",
   "metadata": {},
   "outputs": [],
   "source": [
    "##\n"
   ]
  },
  {
   "cell_type": "markdown",
   "id": "cc9819da",
   "metadata": {},
   "source": [
    "b.  Now use $C_p$, BIC, adjusted $R^2$ as model selection criterion.\n",
    "    What degree was chosen.\n"
   ]
  },
  {
   "cell_type": "code",
   "execution_count": null,
   "id": "2169fcdf",
   "metadata": {},
   "outputs": [],
   "source": [
    "##\n"
   ]
  }
 ],
 "metadata": {
  "jupytext": {
   "cell_metadata_filter": "-all",
   "main_language": "python",
   "notebook_metadata_filter": "-all"
  }
 },
 "nbformat": 4,
 "nbformat_minor": 5
}