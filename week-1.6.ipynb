{
 "cells": [
  {
   "cell_type": "markdown",
   "id": "685bfbcb",
   "metadata": {},
   "source": [
    "This question should be answered using the `Carseats` data set. To load\n",
    "this data set you can use the next snippet:\n",
    "\n",
    "    #-----------------\n",
    "    import statsmodels.datasets as smd\n",
    "    carseats = smd.get_rdataset('Carseats', 'ISLR')\n",
    "    #-----------------\n",
    "\n",
    "a.  Fit a multiple regression model to predict `Sales` using `Price`,\n",
    "    `Urban`, and `US`.\n"
   ]
  },
  {
   "cell_type": "code",
   "execution_count": null,
   "id": "ed98f619",
   "metadata": {},
   "outputs": [],
   "source": [
    "##\n"
   ]
  },
  {
   "cell_type": "markdown",
   "id": "9c2f7d1b",
   "metadata": {},
   "source": [
    "b.  Provide an interpretation of each coefficient in the model. Be\n",
    "    careful, some of the variables in the model are qualitative!\n"
   ]
  },
  {
   "cell_type": "code",
   "execution_count": null,
   "id": "c19eb231",
   "metadata": {},
   "outputs": [],
   "source": [
    "##\n"
   ]
  },
  {
   "cell_type": "markdown",
   "id": "c84cf10e",
   "metadata": {},
   "source": [
    "c.  Write out the model in equation form, being careful to handle the\n",
    "    qualitative variables properly\n"
   ]
  },
  {
   "cell_type": "code",
   "execution_count": null,
   "id": "d61095ad",
   "metadata": {},
   "outputs": [],
   "source": [
    "##\n"
   ]
  },
  {
   "cell_type": "markdown",
   "id": "076f92fd",
   "metadata": {},
   "source": [
    "d.  For which of the predictors can you reject the null hypothesis\n",
    "    $H_0: \\beta_j = 0$?\n"
   ]
  },
  {
   "cell_type": "code",
   "execution_count": null,
   "id": "31b677fa",
   "metadata": {},
   "outputs": [],
   "source": [
    "##\n"
   ]
  },
  {
   "cell_type": "markdown",
   "id": "a857ca63",
   "metadata": {},
   "source": [
    "e.  On the basis of your response to the previous question, fit a\n",
    "    smaller model that only uses the predictors for which there is\n",
    "    evidence of association with the outcome.\n"
   ]
  },
  {
   "cell_type": "code",
   "execution_count": null,
   "id": "b47449b2",
   "metadata": {},
   "outputs": [],
   "source": [
    "##\n"
   ]
  },
  {
   "cell_type": "markdown",
   "id": "e0708c07",
   "metadata": {},
   "source": [
    "f.  How well do the models in (a) and (e) fit the data?\n"
   ]
  },
  {
   "cell_type": "code",
   "execution_count": null,
   "id": "b712a9cb",
   "metadata": {},
   "outputs": [],
   "source": [
    "##\n"
   ]
  },
  {
   "cell_type": "markdown",
   "id": "af1125e4",
   "metadata": {},
   "source": [
    "g.  Using the model from (e), obtain 95 % confidence intervals for the\n",
    "    coefficient(s).\n"
   ]
  },
  {
   "cell_type": "code",
   "execution_count": null,
   "id": "e2c808c0",
   "metadata": {},
   "outputs": [],
   "source": [
    "##\n"
   ]
  },
  {
   "cell_type": "markdown",
   "id": "0a7d7142",
   "metadata": {},
   "source": [
    "h.  Is there evidence of outliers or high leverage observations in the\n",
    "    model from (e)?\n"
   ]
  },
  {
   "cell_type": "code",
   "execution_count": null,
   "id": "88b1e825",
   "metadata": {},
   "outputs": [],
   "source": [
    "##\n"
   ]
  }
 ],
 "metadata": {
  "jupytext": {
   "cell_metadata_filter": "-all",
   "main_language": "python",
   "notebook_metadata_filter": "-all"
  }
 },
 "nbformat": 4,
 "nbformat_minor": 5
}