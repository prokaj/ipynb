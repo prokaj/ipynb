{
 "cells": [
  {
   "cell_type": "markdown",
   "id": "32ce6b2d",
   "metadata": {},
   "source": [
    "This question should be answered using the `Carseats` data set. To load\n",
    "this data set you can use the next snippet:\n",
    "\n",
    "    #-----------------\n",
    "    import statsmodels.datasets as smd\n",
    "    carseats = smd.get_rdataset('Carseats', 'ISLR')\n",
    "    #-----------------\n",
    "\n",
    "a.  Fit a multiple regression model to predict `Sales` using `Price`,\n",
    "    `Urban`, and `US`.\n"
   ]
  },
  {
   "cell_type": "code",
   "execution_count": null,
   "id": "12420cce",
   "metadata": {},
   "outputs": [],
   "source": [
    "##\n"
   ]
  },
  {
   "cell_type": "markdown",
   "id": "3829fe08",
   "metadata": {},
   "source": [
    "b.  Provide an interpretation of each coefficient in the model. Be\n",
    "    careful, some of the variables in the model are qualitative!\n"
   ]
  },
  {
   "cell_type": "code",
   "execution_count": null,
   "id": "e3dd2082",
   "metadata": {},
   "outputs": [],
   "source": [
    "##\n"
   ]
  },
  {
   "cell_type": "markdown",
   "id": "6025d6c4",
   "metadata": {},
   "source": [
    "c.  Write out the model in equation form, being careful to handle the\n",
    "    qualitative variables properly\n"
   ]
  },
  {
   "cell_type": "code",
   "execution_count": null,
   "id": "27c1c08c",
   "metadata": {},
   "outputs": [],
   "source": [
    "##\n"
   ]
  },
  {
   "cell_type": "markdown",
   "id": "04f61880",
   "metadata": {},
   "source": [
    "d.  For which of the predictors can you reject the null hypothesis\n",
    "    $H_0: \\beta_j = 0$?\n"
   ]
  },
  {
   "cell_type": "code",
   "execution_count": null,
   "id": "9cf30909",
   "metadata": {},
   "outputs": [],
   "source": [
    "##\n"
   ]
  },
  {
   "cell_type": "markdown",
   "id": "c091a0e8",
   "metadata": {},
   "source": [
    "e.  On the basis of your response to the previous question, fit a\n",
    "    smaller model that only uses the predictors for which there is\n",
    "    evidence of association with the outcome.\n"
   ]
  },
  {
   "cell_type": "code",
   "execution_count": null,
   "id": "7043610b",
   "metadata": {},
   "outputs": [],
   "source": [
    "##\n"
   ]
  },
  {
   "cell_type": "markdown",
   "id": "7877aec0",
   "metadata": {},
   "source": [
    "f.  How well do the models in (a) and (e) fit the data?\n"
   ]
  },
  {
   "cell_type": "code",
   "execution_count": null,
   "id": "107e2aa5",
   "metadata": {},
   "outputs": [],
   "source": [
    "##\n"
   ]
  },
  {
   "cell_type": "markdown",
   "id": "482f3c98",
   "metadata": {},
   "source": [
    "g.  Using the model from (e), obtain 95 % confidence intervals for the\n",
    "    coefficient(s).\n"
   ]
  },
  {
   "cell_type": "code",
   "execution_count": null,
   "id": "74c0c7f2",
   "metadata": {},
   "outputs": [],
   "source": [
    "##\n"
   ]
  },
  {
   "cell_type": "markdown",
   "id": "933faa45",
   "metadata": {},
   "source": [
    "h.  Is there evidence of outliers or high leverage observations in the\n",
    "    model from (e)?\n"
   ]
  },
  {
   "cell_type": "code",
   "execution_count": null,
   "id": "087fd0dc",
   "metadata": {},
   "outputs": [],
   "source": [
    "##\n"
   ]
  }
 ],
 "metadata": {
  "jupytext": {
   "cell_metadata_filter": "-all",
   "main_language": "python",
   "notebook_metadata_filter": "-all"
  }
 },
 "nbformat": 4,
 "nbformat_minor": 5
}