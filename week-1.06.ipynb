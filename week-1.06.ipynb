{
 "cells": [
  {
   "cell_type": "markdown",
   "id": "d5657a9d",
   "metadata": {},
   "source": [
    "This question should be answered using the `Carseats` data set. To load\n",
    "this data set you can use the next snippet:\n",
    "\n",
    "    #-----------------\n",
    "    import statsmodels.datasets as smd\n",
    "    carseats = smd.get_rdataset('Carseats', 'ISLR')\n",
    "    #-----------------\n",
    "\n",
    "a.  Fit a multiple regression model to predict `Sales` using `Price`,\n",
    "    `Urban`, and `US`.\n"
   ]
  },
  {
   "cell_type": "code",
   "execution_count": null,
   "id": "ce965ec6",
   "metadata": {},
   "outputs": [],
   "source": [
    "##\n"
   ]
  },
  {
   "cell_type": "markdown",
   "id": "d7d512df",
   "metadata": {},
   "source": [
    "b.  Provide an interpretation of each coefficient in the model. Be\n",
    "    careful, some of the variables in the model are qualitative!\n"
   ]
  },
  {
   "cell_type": "code",
   "execution_count": null,
   "id": "e81c2bd9",
   "metadata": {},
   "outputs": [],
   "source": [
    "##\n"
   ]
  },
  {
   "cell_type": "markdown",
   "id": "57802ca6",
   "metadata": {},
   "source": [
    "c.  Write out the model in equation form, being careful to handle the\n",
    "    qualitative variables properly\n"
   ]
  },
  {
   "cell_type": "code",
   "execution_count": null,
   "id": "fe314d59",
   "metadata": {},
   "outputs": [],
   "source": [
    "##\n"
   ]
  },
  {
   "cell_type": "markdown",
   "id": "ac62e0fb",
   "metadata": {},
   "source": [
    "d.  For which of the predictors can you reject the null hypothesis\n",
    "    $H_0: \\beta_j = 0$?\n"
   ]
  },
  {
   "cell_type": "code",
   "execution_count": null,
   "id": "a265fb5f",
   "metadata": {},
   "outputs": [],
   "source": [
    "##\n"
   ]
  },
  {
   "cell_type": "markdown",
   "id": "60334b2b",
   "metadata": {},
   "source": [
    "e.  On the basis of your response to the previous question, fit a\n",
    "    smaller model that only uses the predictors for which there is\n",
    "    evidence of association with the outcome.\n"
   ]
  },
  {
   "cell_type": "code",
   "execution_count": null,
   "id": "bf2b13dc",
   "metadata": {},
   "outputs": [],
   "source": [
    "##\n"
   ]
  },
  {
   "cell_type": "markdown",
   "id": "af5edd6c",
   "metadata": {},
   "source": [
    "f.  How well do the models in (a) and (e) fit the data?\n"
   ]
  },
  {
   "cell_type": "code",
   "execution_count": null,
   "id": "49cf9d37",
   "metadata": {},
   "outputs": [],
   "source": [
    "##\n"
   ]
  },
  {
   "cell_type": "markdown",
   "id": "eee4d3a0",
   "metadata": {},
   "source": [
    "g.  Using the model from (e), obtain 95 % confidence intervals for the\n",
    "    coefficient(s).\n"
   ]
  },
  {
   "cell_type": "code",
   "execution_count": null,
   "id": "698fc7c4",
   "metadata": {},
   "outputs": [],
   "source": [
    "##\n"
   ]
  },
  {
   "cell_type": "markdown",
   "id": "78309f95",
   "metadata": {},
   "source": [
    "h.  Is there evidence of outliers or high leverage observations in the\n",
    "    model from (e)?\n"
   ]
  },
  {
   "cell_type": "code",
   "execution_count": null,
   "id": "35626d6e",
   "metadata": {},
   "outputs": [],
   "source": [
    "##\n"
   ]
  }
 ],
 "metadata": {
  "jupytext": {
   "cell_metadata_filter": "-all",
   "main_language": "python",
   "notebook_metadata_filter": "-all"
  }
 },
 "nbformat": 4,
 "nbformat_minor": 5
}